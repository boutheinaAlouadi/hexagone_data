{
 "cells": [
  {
   "cell_type": "code",
   "execution_count": 1,
   "metadata": {},
   "outputs": [
    {
     "data": {
      "text/plain": [
       "[5, 2]"
      ]
     },
     "execution_count": 1,
     "metadata": {},
     "output_type": "execute_result"
    }
   ],
   "source": [
    "collection = [1, 2, 5, 9, 11, 6, 7, 8, 1, 2, 6, 7, 6, 7, 8, 6, 7, 8 , 23, 0]\n",
    "\n",
    "def search_letter (collection, x):\n",
    "    # Ok\n",
    "    for i, value in enumerate (collection):\n",
    "        # Dès la première fois que tu tombes tu l'as retourne\n",
    "        if value == x :\n",
    "            return [x, i] # si tu trouves x tu renvois la position et la valeur dans une liste\n",
    "        \n",
    "    return []\n",
    "        \n",
    "\n",
    "# On cherche la valeur 5\n",
    "x = 5\n",
    "search_letter (collection, x)"
   ]
  },
  {
   "cell_type": "code",
   "execution_count": null,
   "metadata": {},
   "outputs": [],
   "source": []
  }
 ],
 "metadata": {
  "kernelspec": {
   "display_name": "Python 3",
   "language": "python",
   "name": "python3"
  },
  "language_info": {
   "codemirror_mode": {
    "name": "ipython",
    "version": 3
   },
   "file_extension": ".py",
   "mimetype": "text/x-python",
   "name": "python",
   "nbconvert_exporter": "python",
   "pygments_lexer": "ipython3",
   "version": "3.8.3"
  }
 },
 "nbformat": 4,
 "nbformat_minor": 4
}
