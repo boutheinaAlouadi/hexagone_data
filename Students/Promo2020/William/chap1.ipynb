{
 "cells": [
  {
   "cell_type": "code",
   "execution_count": 3,
   "metadata": {},
   "outputs": [],
   "source": [
    "collection = [1,2,3,4,5,6]\n",
    "\n",
    "def findPosIfExist(letterToFind, word):\n",
    "    for pos, letter in enumerate(word):\n",
    "        if letter == letterToFind:\n",
    "            print(f\"found at pos {pos}\")\n",
    "            return pos\n",
    "    return None"
   ]
  },
  {
   "cell_type": "code",
   "execution_count": 4,
   "metadata": {
    "pycharm": {
     "name": "#%%\n"
    }
   },
   "outputs": [
    {
     "name": "stdout",
     "output_type": "stream",
     "text": [
      "found at pos 3\n"
     ]
    },
    {
     "data": {
      "text/plain": [
       "3"
      ]
     },
     "execution_count": 4,
     "metadata": {},
     "output_type": "execute_result"
    }
   ],
   "source": [
    "findPosIfExist(4, collection)"
   ]
  },
  {
   "cell_type": "code",
   "execution_count": 7,
   "metadata": {
    "pycharm": {
     "name": "#%%\n"
    }
   },
   "outputs": [
    {
     "name": "stdout",
     "output_type": "stream",
     "text": [
      "Position de l'élément 4 : 3\n"
     ]
    }
   ],
   "source": [
    "def findPosIfExist_correction(letterToFind, word):\n",
    "    for pos, letter in enumerate(word):\n",
    "        if letter == letterToFind:\n",
    "            return (pos, letter)\n",
    "    return None\n",
    "\n",
    "# Je retourne un tuple que j'assigne aux valeurs pos et letter\n",
    "# On peut assigner des v\n",
    "pos, letter = findPosIfExist_correction(4, collection)\n",
    "\n",
    "if pos : print(f\"Position de l'élément {letter} : {pos}\") \n",
    "else : print(\"Nort Found\")"
   ]
  },
  {
   "cell_type": "code",
   "execution_count": null,
   "metadata": {},
   "outputs": [],
   "source": []
  }
 ],
 "metadata": {
  "kernelspec": {
   "display_name": "Python 3",
   "language": "python",
   "name": "python3"
  },
  "language_info": {
   "codemirror_mode": {
    "name": "ipython",
    "version": 3
   },
   "file_extension": ".py",
   "mimetype": "text/x-python",
   "name": "python",
   "nbconvert_exporter": "python",
   "pygments_lexer": "ipython3",
   "version": "3.8.3"
  }
 },
 "nbformat": 4,
 "nbformat_minor": 1
}
