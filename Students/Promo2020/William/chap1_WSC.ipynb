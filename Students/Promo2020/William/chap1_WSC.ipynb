{
 "cells": [
  {
   "cell_type": "code",
   "execution_count": 1,
   "metadata": {
    "collapsed": true
   },
   "outputs": [],
   "source": [
    "# Exercice recherche d'une occurence et de sa position\n",
    "\n",
    "collection = [1,2,3,4,5,6]\n",
    "def findPosIfExist(letterToFind, word):\n",
    "    for pos, letter in enumerate(word):\n",
    "        if letter == letterToFind:\n",
    "            print(f\"found at pos {pos}\")\n",
    "            return pos\n",
    "    return None"
   ]
  },
  {
   "cell_type": "code",
   "execution_count": 2,
   "metadata": {
    "pycharm": {
     "name": "#%%\n"
    }
   },
   "outputs": [
    {
     "name": "stdout",
     "output_type": "stream",
     "text": [
      "found at pos 3\n"
     ]
    },
    {
     "data": {
      "text/plain": [
       "3"
      ]
     },
     "execution_count": 2,
     "metadata": {},
     "output_type": "execute_result"
    }
   ],
   "source": [
    "findPosIfExist(4, collection)"
   ]
  },
  {
   "cell_type": "code",
   "execution_count": 6,
   "metadata": {
    "pycharm": {
     "name": "#%%\n"
    }
   },
   "outputs": [
    {
     "data": {
      "text/plain": [
       "{'letter': 7, 'pos': [6, 11, 13, 16]}"
      ]
     },
     "execution_count": 6,
     "metadata": {},
     "output_type": "execute_result"
    }
   ],
   "source": [
    "# Exercice recherche de toutes les occurences d'une lettre dans une phrase\n",
    "\n",
    "collection = [1, 2, 5, 9, 11, 6, 7, 8, 1, 2, 6, 7, 6, 7, 8, 6, 7, 8 , 23, 0]\n",
    "\n",
    "def findAllPosIfExist(letterToFind, word):\n",
    "    result = dict()\n",
    "    for pos, letter in enumerate(word):\n",
    "        if letter == letterToFind:\n",
    "            if 'letter' in result:\n",
    "                result['pos'].append(pos)\n",
    "            else:\n",
    "                result = {'letter' : letterToFind, 'pos': [pos]}\n",
    "    return result\n",
    "\n",
    "findAllPosIfExist(7, collection)"
   ]
  },
  {
   "cell_type": "code",
   "execution_count": 11,
   "metadata": {
    "pycharm": {
     "name": "#%%\n"
    }
   },
   "outputs": [
    {
     "data": {
      "text/plain": [
       "5"
      ]
     },
     "execution_count": 11,
     "metadata": {},
     "output_type": "execute_result"
    }
   ],
   "source": [
    "# Exercice recherche d'une séquence dans une phrase\n",
    "\n",
    "collection = [1, 2, 5, 9, 11, 6, 7, 8, 1, 2, 6, 7, 6, 7, 8, 6, 7, 8 , 23, 0]\n",
    "\n",
    "def findOneSequenceIfExist(sequenceToFind, collectionToTest):\n",
    "    for pos, letter in enumerate(collectionToTest):\n",
    "        if collectionToTest[pos:pos+len(sequenceToFind)] == sequenceToFind:\n",
    "            return pos\n",
    "    return None\n",
    "\n",
    "findOneSequenceIfExist([6,7,8], collection)"
   ]
  },
  {
   "cell_type": "code",
   "execution_count": 1,
   "metadata": {
    "pycharm": {
     "name": "#%%\n"
    }
   },
   "outputs": [
    {
     "ename": "NameError",
     "evalue": "name 'collection' is not defined",
     "output_type": "error",
     "traceback": [
      "\u001b[0;31m---------------------------------------------------------------------------\u001b[0m",
      "\u001b[0;31mNameError\u001b[0m                                 Traceback (most recent call last)",
      "\u001b[0;32m<ipython-input-1-3fa44af91aa1>\u001b[0m in \u001b[0;36m<module>\u001b[0;34m\u001b[0m\n\u001b[1;32m      8\u001b[0m     \u001b[0;32mreturn\u001b[0m \u001b[0mresult\u001b[0m\u001b[0;34m\u001b[0m\u001b[0;34m\u001b[0m\u001b[0m\n\u001b[1;32m      9\u001b[0m \u001b[0;34m\u001b[0m\u001b[0m\n\u001b[0;32m---> 10\u001b[0;31m \u001b[0mfindOneSequenceIfExist\u001b[0m\u001b[0;34m(\u001b[0m\u001b[0;34m[\u001b[0m\u001b[0;36m6\u001b[0m\u001b[0;34m,\u001b[0m\u001b[0;36m7\u001b[0m\u001b[0;34m,\u001b[0m\u001b[0;36m8\u001b[0m\u001b[0;34m]\u001b[0m\u001b[0;34m,\u001b[0m \u001b[0mcollection\u001b[0m\u001b[0;34m)\u001b[0m\u001b[0;34m\u001b[0m\u001b[0;34m\u001b[0m\u001b[0m\n\u001b[0m",
      "\u001b[0;31mNameError\u001b[0m: name 'collection' is not defined"
     ]
    }
   ],
   "source": [
    "# Exercice recherche des séquences dans une phrase\n",
    "\n",
    "def findOneSequenceIfExist(sequenceToFind, collectionToTest):\n",
    "    result = []\n",
    "    for pos, letter in enumerate(collectionToTest):\n",
    "        if collectionToTest[pos:pos+len(sequenceToFind)] == sequenceToFind:\n",
    "            result.append(pos)\n",
    "    return result\n",
    "\n",
    "findOneSequenceIfExist([6,7,8], collection)"
   ]
  },
  {
   "cell_type": "code",
   "execution_count": null,
   "metadata": {},
   "outputs": [],
   "source": []
  }
 ],
 "metadata": {
  "kernelspec": {
   "display_name": "Python 3",
   "language": "python",
   "name": "python3"
  },
  "language_info": {
   "codemirror_mode": {
    "name": "ipython",
    "version": 3
   },
   "file_extension": ".py",
   "mimetype": "text/x-python",
   "name": "python",
   "nbconvert_exporter": "python",
   "pygments_lexer": "ipython3",
   "version": "3.8.3"
  }
 },
 "nbformat": 4,
 "nbformat_minor": 1
}
