{
 "cells": [
  {
   "cell_type": "code",
   "execution_count": 1,
   "metadata": {
    "collapsed": true
   },
   "outputs": [],
   "source": [
    "# Exercice recherche d'une occurence et de sa position\n",
    "\n",
    "collection = [1,2,3,4,5,6]\n",
    "def findPosIfExist(letterToFind, word):\n",
    "    for pos, letter in enumerate(word):\n",
    "        if letter == letterToFind:\n",
    "            print(f\"found at pos {pos}\")\n",
    "            return pos\n",
    "    return None"
   ]
  },
  {
   "cell_type": "code",
   "execution_count": 2,
   "metadata": {
    "pycharm": {
     "name": "#%%\n"
    }
   },
   "outputs": [
    {
     "name": "stdout",
     "output_type": "stream",
     "text": [
      "found at pos 3\n"
     ]
    },
    {
     "data": {
      "text/plain": [
       "3"
      ]
     },
     "execution_count": 2,
     "metadata": {},
     "output_type": "execute_result"
    }
   ],
   "source": [
    "findPosIfExist(4, collection)"
   ]
  },
  {
   "cell_type": "code",
   "execution_count": 6,
   "metadata": {
    "pycharm": {
     "name": "#%%\n"
    }
   },
   "outputs": [
    {
     "data": {
      "text/plain": [
       "{'letter': 7, 'pos': [6, 11, 13, 16]}"
      ]
     },
     "execution_count": 6,
     "metadata": {},
     "output_type": "execute_result"
    }
   ],
   "source": [
    "# Exercice recherche de toutes les occurences d'une lettre dans une phrase\n",
    "\n",
    "collection = [1, 2, 5, 9, 11, 6, 7, 8, 1, 2, 6, 7, 6, 7, 8, 6, 7, 8 , 23, 0]\n",
    "\n",
    "# Très bien\n",
    "def findAllPosIfExist(letterToFind, word):\n",
    "    result = dict()\n",
    "    for pos, letter in enumerate(word):\n",
    "        if letter == letterToFind:\n",
    "            if 'letter' in result:\n",
    "                result['pos'].append(pos)\n",
    "            else:\n",
    "                result = {'letter' : letterToFind, 'pos': [pos]}\n",
    "    return result\n",
    "\n",
    "findAllPosIfExist(7, collection)"
   ]
  },
  {
   "cell_type": "code",
   "execution_count": 3,
   "metadata": {
    "pycharm": {
     "name": "#%%\n"
    }
   },
   "outputs": [],
   "source": []
  }
 ],
 "metadata": {
  "kernelspec": {
   "display_name": "Python 3",
   "language": "python",
   "name": "python3"
  },
  "language_info": {
   "codemirror_mode": {
    "name": "ipython",
    "version": 3
   },
   "file_extension": ".py",
   "mimetype": "text/x-python",
   "name": "python",
   "nbconvert_exporter": "python",
   "pygments_lexer": "ipython3",
   "version": "3.8.3"
  }
 },
 "nbformat": 4,
 "nbformat_minor": 1
}
