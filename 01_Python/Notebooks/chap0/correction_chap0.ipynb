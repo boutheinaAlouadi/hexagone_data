{
 "cells": [
  {
   "cell_type": "code",
   "execution_count": 15,
   "metadata": {},
   "outputs": [
    {
     "name": "stdout",
     "output_type": "stream",
     "text": [
      "False\n",
      "True\n"
     ]
    },
    {
     "data": {
      "text/plain": [
       "True"
      ]
     },
     "execution_count": 15,
     "metadata": {},
     "output_type": "execute_result"
    }
   ],
   "source": [
    "s = 'mississippi'\n",
    "i = 'i'\n",
    "\n",
    "print( 'x' in s )\n",
    "print( 'i' in s )\n",
    "\n",
    "def search_letter_v1(i, s):\n",
    "    \n",
    "    for ch in s:\n",
    "        if ch == i: \n",
    "            return True # on sort de la fonction\n",
    "        \n",
    "    return False # soit on a pas trouvé le caractère \n",
    "    \n",
    "    \n",
    "search_letter_v1(i, s)\n"
   ]
  },
  {
   "cell_type": "code",
   "execution_count": 19,
   "metadata": {},
   "outputs": [
    {
     "name": "stdout",
     "output_type": "stream",
     "text": [
      "True\n",
      "False\n"
     ]
    }
   ],
   "source": [
    "s = 'mississippi'\n",
    "c = 'i'\n",
    "\n",
    "def search_letter_v2(c, s):\n",
    "    \n",
    "    return c in s\n",
    "\n",
    "c = 'i'\n",
    "print( search_letter_v2(c, s) )\n",
    "\n",
    "c = 'x'\n",
    "print( search_letter_v2(c, s) )\n"
   ]
  },
  {
   "cell_type": "code",
   "execution_count": 23,
   "metadata": {},
   "outputs": [
    {
     "data": {
      "text/plain": [
       "4"
      ]
     },
     "execution_count": 23,
     "metadata": {},
     "output_type": "execute_result"
    }
   ],
   "source": [
    "# On cherhce à compter des occurences dans une collection qui peut être une chaîne de caractères\n",
    "# La manière direct car Python c'est déjà le faire ...\n",
    "# s.count('i')\n",
    "\n",
    "# \"Bonjour le monde\".count(\"B\") # 1\n",
    "\n",
    "def counter_letter(c, s):\n",
    "    count = 0\n",
    "    for ch in s:\n",
    "        if ch == c: \n",
    "            count += 1\n",
    "    \n",
    "    return count\n",
    "    \n",
    "c = 'x'\n",
    "counter_letter(c, s)\n",
    "c = 'i'\n",
    "counter_letter(c, s)\n"
   ]
  },
  {
   "cell_type": "code",
   "execution_count": 27,
   "metadata": {},
   "outputs": [
    {
     "name": "stdout",
     "output_type": "stream",
     "text": [
      "i 4\n",
      "m 1\n",
      "p 2\n",
      "s 4\n"
     ]
    }
   ],
   "source": [
    "# compter toutes les occurences en utilisant la fonction counter_letter (diviser pour mieux reigner)\n",
    "countLetters = []\n",
    "alphabet = \"abcdefghijklmnopqrst\"\n",
    "\n",
    "for ch in alphabet:\n",
    "    if ch in s:\n",
    "        print(ch, counter_letter(ch, s))"
   ]
  },
  {
   "cell_type": "code",
   "execution_count": 29,
   "metadata": {},
   "outputs": [
    {
     "name": "stdout",
     "output_type": "stream",
     "text": [
      "[['m', 1], ['i', 4], ['s', 4], ['p', 2]]\n"
     ]
    }
   ],
   "source": [
    "# Essayez de relire et de comprendre le code qui suit\n",
    "countLetters = []\n",
    "testLetters = []\n",
    "\n",
    "for ch in s:\n",
    "    if ch not in testLetters:\n",
    "        testLetters.append(ch)\n",
    "        countLetters.append( [ch, counter_letter(ch, s)] )\n",
    "\n",
    "print(countLetters)"
   ]
  },
  {
   "cell_type": "code",
   "execution_count": null,
   "metadata": {},
   "outputs": [],
   "source": [
    "# Comptez le nombre de séquence dans une chaîne de caractères\n",
    "\n",
    "seq = \"abc\"\n",
    "alphabet = \"abcdeabcfghijklmnabcopabcqrstabcabcjshslabc\"\n"
   ]
  }
 ],
 "metadata": {
  "kernelspec": {
   "display_name": "Python 3",
   "language": "python",
   "name": "python3"
  },
  "language_info": {
   "codemirror_mode": {
    "name": "ipython",
    "version": 3
   },
   "file_extension": ".py",
   "mimetype": "text/x-python",
   "name": "python",
   "nbconvert_exporter": "python",
   "pygments_lexer": "ipython3",
   "version": "3.8.3"
  }
 },
 "nbformat": 4,
 "nbformat_minor": 4
}
