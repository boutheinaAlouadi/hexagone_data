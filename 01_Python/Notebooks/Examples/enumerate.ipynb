{
 "cells": [
  {
   "cell_type": "code",
   "execution_count": 3,
   "metadata": {},
   "outputs": [
    {
     "name": "stdout",
     "output_type": "stream",
     "text": [
      "0 71\n",
      "1 12\n",
      "2 83\n",
      "3 40\n",
      "4 59\n",
      "5 6\n"
     ]
    }
   ],
   "source": [
    "collection = [71, 12, 83, 40, 59, 6]\n",
    "\n",
    "# letter est une variable de votre choix\n",
    "# enumerate crée un indice en plus lors du parcours de l'itérable \n",
    "# on récupère respectivement i l'indice et letter (ici) la valeur de collection\n",
    "for i, letter in enumerate( collection ):\n",
    "    print(i, letter)"
   ]
  },
  {
   "cell_type": "code",
   "execution_count": null,
   "metadata": {},
   "outputs": [],
   "source": []
  }
 ],
 "metadata": {
  "kernelspec": {
   "display_name": "Python 3",
   "language": "python",
   "name": "python3"
  },
  "language_info": {
   "codemirror_mode": {
    "name": "ipython",
    "version": 3
   },
   "file_extension": ".py",
   "mimetype": "text/x-python",
   "name": "python",
   "nbconvert_exporter": "python",
   "pygments_lexer": "ipython3",
   "version": "3.8.3"
  }
 },
 "nbformat": 4,
 "nbformat_minor": 4
}
