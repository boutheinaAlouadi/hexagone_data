{
 "cells": [
  {
   "cell_type": "code",
   "execution_count": 18,
   "metadata": {},
   "outputs": [
    {
     "name": "stdout",
     "output_type": "stream",
     "text": [
      "h\n",
      "q\n",
      "0\n",
      "1\n",
      "2\n",
      "h\n",
      "q\n",
      "0\n",
      "1\n",
      "2\n",
      "h\n",
      "q\n",
      "0\n",
      "1\n",
      "2\n",
      "h\n",
      "q\n",
      "0\n",
      "1\n",
      "2\n",
      "h\n"
     ]
    }
   ],
   "source": [
    "# Pensez à indenter votre code pour qu'il compile ... \n",
    "# l'indentation standard dans Python : 4 espaces mais vous pouvez décider d'en faire moins ou plus\n",
    "# l'important c'est de garder toujours la même tabulation dans le bloc\n",
    "for i in [0, 1, 2, 3]:\n",
    "    print(\"h\")\n",
    "    print(\"q\")\n",
    "    for j in range(3):\n",
    "        print(j)"
   ]
  },
  {
   "cell_type": "code",
   "execution_count": 19,
   "metadata": {},
   "outputs": [
    {
     "name": "stdout",
     "output_type": "stream",
     "text": [
      "B\n",
      "o\n",
      "n\n",
      "j\n",
      "o\n",
      "u\n",
      "r\n",
      " \n",
      "l\n",
      "e\n",
      " \n",
      "m\n",
      "o\n",
      "n\n",
      "d\n",
      "e\n"
     ]
    }
   ],
   "source": [
    "# Rappel une chaîne de caractères est un itérable ...\n",
    "for ch in \"Bonjour le monde\":\n",
    "    print(ch)"
   ]
  },
  {
   "cell_type": "code",
   "execution_count": 20,
   "metadata": {},
   "outputs": [
    {
     "name": "stdout",
     "output_type": "stream",
     "text": [
      "Alan\n",
      "Laice\n",
      "Bernard\n"
     ]
    }
   ],
   "source": [
    "students = [\"Alan\", \"Laice\", \"Bernard\"]\n",
    "\n",
    "for student in students:\n",
    "    print(student)"
   ]
  },
  {
   "cell_type": "code",
   "execution_count": 22,
   "metadata": {},
   "outputs": [
    {
     "name": "stdout",
     "output_type": "stream",
     "text": [
      "Alan\n",
      "Laice\n",
      "Bernard\n"
     ]
    }
   ],
   "source": [
    "for indice in range( len(students) ):\n",
    "    print(students[indice])"
   ]
  },
  {
   "cell_type": "code",
   "execution_count": 24,
   "metadata": {},
   "outputs": [
    {
     "data": {
      "text/plain": [
       "[0, 1, 2, 3, 4, 5, 6, 7, 8, 9]"
      ]
     },
     "execution_count": 24,
     "metadata": {},
     "output_type": "execute_result"
    }
   ],
   "source": [
    "list( range(10) )"
   ]
  },
  {
   "cell_type": "code",
   "execution_count": 25,
   "metadata": {},
   "outputs": [
    {
     "name": "stdout",
     "output_type": "stream",
     "text": [
      "Valeur de x 1\n",
      "Valeur de x 2\n",
      "Valeur de x 4\n",
      "Valeur de x 8\n",
      "16 End\n"
     ]
    }
   ],
   "source": [
    "x = 1\n",
    "while x < 10:\n",
    "    print(\"Valeur de x\", x)\n",
    "    x = x * 2\n",
    "print(x, \"End\")"
   ]
  },
  {
   "cell_type": "code",
   "execution_count": null,
   "metadata": {},
   "outputs": [],
   "source": [
    "\"\"\"\n",
    "\n",
    "Boucle infinie\n",
    "\n",
    "\"\"\"\n",
    "\n",
    "\"\"\"\n",
    "x = -1\n",
    "while x < 10:\n",
    "    print(\"Valeur de x\", x)\n",
    "    x = x * 2\n",
    "print(x, \"End\")\n",
    "\"\"\"\n"
   ]
  },
  {
   "cell_type": "code",
   "execution_count": 30,
   "metadata": {},
   "outputs": [
    {
     "name": "stdout",
     "output_type": "stream",
     "text": [
      "46.0\n"
     ]
    }
   ],
   "source": []
  },
  {
   "cell_type": "code",
   "execution_count": 28,
   "metadata": {},
   "outputs": [
    {
     "name": "stdout",
     "output_type": "stream",
     "text": [
      "1 12\n",
      "2 14\n",
      "3 16\n",
      "4 18\n",
      "5 20\n",
      "6 22\n",
      "7 24\n",
      "8 26\n",
      "9 28\n",
      "10 30\n",
      "11 32\n",
      "12 34\n",
      "13 36\n",
      "14 38\n",
      "15 40\n",
      "16 42\n",
      "17 44\n",
      "18 46\n",
      "19 48\n",
      "20 50\n",
      "21 52\n",
      "22 54\n",
      "23 56\n",
      "24 58\n",
      "25 60\n",
      "26 62\n",
      "27 64\n",
      "28 66\n",
      "29 68\n",
      "30 70\n",
      "31 72\n",
      "32 74\n",
      "33 76\n",
      "34 78\n",
      "35 80\n",
      "36 82\n",
      "37 84\n",
      "38 86\n",
      "39 88\n",
      "40 90\n",
      "41 92\n",
      "42 94\n",
      "43 96\n",
      "44 98\n",
      "45 100\n",
      "46 102\n",
      "102\n",
      "90\n"
     ]
    }
   ],
   "source": [
    "x = 10\n",
    "count = 0\n",
    "while True:\n",
    "    if x > 100:\n",
    "        break\n",
    "    x += 2\n",
    "    count = count + 1\n",
    "    print(count, x)\n",
    "\n",
    "print(x)\n",
    "\n",
    "# print( (102 - 10)/ 2 )  \n",
    "# pour calculer le nombre d'itérations"
   ]
  },
  {
   "cell_type": "code",
   "execution_count": null,
   "metadata": {},
   "outputs": [],
   "source": []
  }
 ],
 "metadata": {
  "kernelspec": {
   "display_name": "Python 3",
   "language": "python",
   "name": "python3"
  },
  "language_info": {
   "codemirror_mode": {
    "name": "ipython",
    "version": 3
   },
   "file_extension": ".py",
   "mimetype": "text/x-python",
   "name": "python",
   "nbconvert_exporter": "python",
   "pygments_lexer": "ipython3",
   "version": "3.8.3"
  }
 },
 "nbformat": 4,
 "nbformat_minor": 4
}
