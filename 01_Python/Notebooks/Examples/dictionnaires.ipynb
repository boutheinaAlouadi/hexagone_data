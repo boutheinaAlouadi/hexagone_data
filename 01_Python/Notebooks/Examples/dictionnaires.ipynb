{
 "cells": [
  {
   "cell_type": "code",
   "execution_count": 4,
   "metadata": {},
   "outputs": [
    {
     "name": "stdout",
     "output_type": "stream",
     "text": [
      "{'alan': 45, 'albert': 82, 'brice': 53}\n"
     ]
    }
   ],
   "source": [
    "students = {'alan' : 45, 'albert' : 82, 'brice' : 53}\n",
    "\n",
    "print(students)"
   ]
  },
  {
   "cell_type": "code",
   "execution_count": 5,
   "metadata": {},
   "outputs": [
    {
     "name": "stdout",
     "output_type": "stream",
     "text": [
      "-4423316597098295429\n",
      "-8051248384928662622\n",
      "8969100092063111386\n"
     ]
    }
   ],
   "source": [
    "# hash est une fonction Python qui retourne pour un élément du dictionnaire le hash correspondant\n",
    "\n",
    "for h in map(hash, students):\n",
    "    print(h)"
   ]
  },
  {
   "cell_type": "code",
   "execution_count": 6,
   "metadata": {},
   "outputs": [
    {
     "data": {
      "text/plain": [
       "45"
      ]
     },
     "execution_count": 6,
     "metadata": {},
     "output_type": "execute_result"
    }
   ],
   "source": [
    "# Permet d'accéder à la valeur\n",
    "students['alan']"
   ]
  },
  {
   "cell_type": "code",
   "execution_count": 7,
   "metadata": {},
   "outputs": [
    {
     "name": "stdout",
     "output_type": "stream",
     "text": [
      "alan\n",
      "albert\n",
      "brice\n"
     ]
    }
   ],
   "source": [
    "# Par défaut on accède au clés du dict avec un for\n",
    "for student in students:\n",
    "    print(student)"
   ]
  },
  {
   "cell_type": "code",
   "execution_count": 8,
   "metadata": {},
   "outputs": [
    {
     "name": "stdout",
     "output_type": "stream",
     "text": [
      "alan\n",
      "albert\n",
      "brice\n"
     ]
    }
   ],
   "source": [
    "# On accède aux clés du dict\n",
    "for key in students.keys():\n",
    "    print(key)"
   ]
  },
  {
   "cell_type": "code",
   "execution_count": 9,
   "metadata": {},
   "outputs": [
    {
     "name": "stdout",
     "output_type": "stream",
     "text": [
      "45\n",
      "82\n",
      "53\n"
     ]
    }
   ],
   "source": [
    "# On accède aux valeurs du dict\n",
    "for value in students.values():\n",
    "    print(value)"
   ]
  },
  {
   "cell_type": "code",
   "execution_count": 12,
   "metadata": {},
   "outputs": [
    {
     "name": "stdout",
     "output_type": "stream",
     "text": [
      "key : alan value : 45\n",
      "key : albert value : 82\n",
      "key : brice value : 53\n"
     ]
    }
   ],
   "source": [
    "for k,v in students.items():\n",
    "    print(\"key :\", k, \"value :\", v)"
   ]
  },
  {
   "cell_type": "code",
   "execution_count": 14,
   "metadata": {},
   "outputs": [],
   "source": [
    "# Exemple \n",
    "# Définition d'un dictionnaire\n",
    "intensityGravity = dict()\n",
    "\n",
    "A = (12.89, 0.9, 7.9)\n",
    "B = (10.89, 2.9, 4.9)\n",
    "C = (4.6, 8, 0.09)\n",
    "\n",
    "intensityGravity[A] = \"10 Newton\"\n",
    "intensityGravity[B] = \"7 Newton\"\n",
    "intensityGravity[C] = \"100 Newton\""
   ]
  },
  {
   "cell_type": "code",
   "execution_count": 15,
   "metadata": {},
   "outputs": [
    {
     "name": "stdout",
     "output_type": "stream",
     "text": [
      "{(12.89, 0.9, 7.9): '10 Newton', (10.89, 2.9, 4.9): '7 Newton'}\n"
     ]
    }
   ],
   "source": [
    "print(intensityGravity)"
   ]
  },
  {
   "cell_type": "code",
   "execution_count": 16,
   "metadata": {},
   "outputs": [
    {
     "data": {
      "text/plain": [
       "'10 Newton'"
      ]
     },
     "execution_count": 16,
     "metadata": {},
     "output_type": "execute_result"
    }
   ],
   "source": [
    "intensityGravity[(12.89, 0.9, 7.9)]"
   ]
  },
  {
   "cell_type": "code",
   "execution_count": 18,
   "metadata": {},
   "outputs": [
    {
     "data": {
      "text/plain": [
       "'Date de la révolution 1789'"
      ]
     },
     "execution_count": 18,
     "metadata": {},
     "output_type": "execute_result"
    }
   ],
   "source": [
    "d = 1789\n",
    "\n",
    "f\"Date de la révolution {d}\""
   ]
  },
  {
   "cell_type": "code",
   "execution_count": 22,
   "metadata": {},
   "outputs": [
    {
     "data": {
      "text/plain": [
       "'Date de la révolution 1789'"
      ]
     },
     "execution_count": 22,
     "metadata": {},
     "output_type": "execute_result"
    }
   ],
   "source": [
    "\"Date de la révolution \" + str(d)"
   ]
  },
  {
   "cell_type": "code",
   "execution_count": null,
   "metadata": {},
   "outputs": [],
   "source": []
  }
 ],
 "metadata": {
  "kernelspec": {
   "display_name": "Python 3",
   "language": "python",
   "name": "python3"
  },
  "language_info": {
   "codemirror_mode": {
    "name": "ipython",
    "version": 3
   },
   "file_extension": ".py",
   "mimetype": "text/x-python",
   "name": "python",
   "nbconvert_exporter": "python",
   "pygments_lexer": "ipython3",
   "version": "3.8.3"
  }
 },
 "nbformat": 4,
 "nbformat_minor": 4
}
